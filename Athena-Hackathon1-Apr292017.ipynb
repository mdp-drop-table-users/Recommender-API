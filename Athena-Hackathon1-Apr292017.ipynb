{
 "cells": [
  {
   "cell_type": "code",
   "execution_count": 1,
   "metadata": {},
   "outputs": [],
   "source": [
    "import numpy as np\n",
    "import pandas as pd\n",
    "import random\n",
    "\n",
    "from sklearn.feature_selection import SelectKBest\n",
    "from sklearn.model_selection import KFold\n",
    "from sklearn.cluster import MeanShift, estimate_bandwidth, KMeans\n",
    "from matplotlib import colors as mcolors\n",
    "from sklearn.model_selection import train_test_split as tts\n",
    "\n",
    "\n",
    "\n",
    "from surprise import SVD\n",
    "from lightfm import LightFM\n",
    "from surprise import evaluate, print_perf\n",
    "\n",
    "\n",
    "from sklearn.manifold import TSNE\n",
    "import matplotlib.pyplot as plt\n",
    "import plotly.plotly as py\n",
    "import plotly.graph_objs as go\n",
    "from plotly import tools\n",
    "import plotly.tools as tls\n",
    "%matplotlib inline"
   ]
  },
  {
   "cell_type": "code",
   "execution_count": 2,
   "metadata": {},
   "outputs": [],
   "source": [
    "tools.set_credentials_file(username='-', api_key='-')"
   ]
  },
  {
   "cell_type": "markdown",
   "metadata": {},
   "source": [
    "# DATA IMPORT AND CLEAN"
   ]
  },
  {
   "cell_type": "code",
   "execution_count": 3,
   "metadata": {},
   "outputs": [],
   "source": [
    "df = pd.read_csv('printcsvreports .csv')\n",
    "df['patient age'] = df['patient age'].values/ 12\n",
    "df.drop(['patient occupation', 'agriworker', 'homelessstatus', 'pblchouspat','vetstatus'], axis = 1, inplace=True)\n",
    "df2 = df.copy()\n",
    "df.drop(['patientid'], axis = 1, inplace=True)"
   ]
  },
  {
   "cell_type": "code",
   "execution_count": 6,
   "metadata": {},
   "outputs": [],
   "source": [
    "for column in df.columns:\n",
    "    df[column]=df[column].fillna(0)\n",
    "\n",
    "    \n",
    "    non_vals = []\n",
    "for column in df.columns:\n",
    "\n",
    "    if df[column].dtype not in ['int64', 'float64']:\n",
    "        non_vals.append(column)\n",
    "\n",
    "df_cleaned = pd.get_dummies(df, non_vals, drop_first=True)\n",
    "X = df_cleaned.values"
   ]
  },
  {
   "cell_type": "code",
   "execution_count": 7,
   "metadata": {},
   "outputs": [
    {
     "data": {
      "text/plain": [
       "27"
      ]
     },
     "execution_count": 7,
     "metadata": {},
     "output_type": "execute_result"
    }
   ],
   "source": [
    "len(df['race'].unique())"
   ]
  },
  {
   "cell_type": "code",
   "execution_count": 8,
   "metadata": {},
   "outputs": [
    {
     "data": {
      "text/plain": [
       "19"
      ]
     },
     "execution_count": 8,
     "metadata": {},
     "output_type": "execute_result"
    }
   ],
   "source": [
    "len(df['ethnicity'].unique())"
   ]
  },
  {
   "cell_type": "code",
   "execution_count": 9,
   "metadata": {},
   "outputs": [
    {
     "data": {
      "text/html": [
       "<div>\n",
       "<table border=\"1\" class=\"dataframe\">\n",
       "  <thead>\n",
       "    <tr style=\"text-align: right;\">\n",
       "      <th></th>\n",
       "      <th>patient age</th>\n",
       "      <th>patientsex_M</th>\n",
       "      <th>ethnicity_Andalusian</th>\n",
       "      <th>ethnicity_Asturian</th>\n",
       "      <th>ethnicity_Central American</th>\n",
       "      <th>ethnicity_Cuban</th>\n",
       "      <th>ethnicity_Dominican</th>\n",
       "      <th>ethnicity_Ecuadorian</th>\n",
       "      <th>ethnicity_Gallego</th>\n",
       "      <th>ethnicity_Hispanic or Latino/Spanish</th>\n",
       "      <th>...</th>\n",
       "      <th>patient city_WINLOCK</th>\n",
       "      <th>patient city_WINTER HARBOR</th>\n",
       "      <th>patient city_WOBURN</th>\n",
       "      <th>patient city_WOODSTOCK</th>\n",
       "      <th>patient city_WORCESTER</th>\n",
       "      <th>patient city_WORTHINGTON</th>\n",
       "      <th>patient city_WORTHINGTON SPRINGS</th>\n",
       "      <th>patient city_WRAY</th>\n",
       "      <th>patient city_YAKIMA</th>\n",
       "      <th>patient city_YORK BEACH</th>\n",
       "    </tr>\n",
       "  </thead>\n",
       "  <tbody>\n",
       "    <tr>\n",
       "      <th>0</th>\n",
       "      <td>2</td>\n",
       "      <td>0</td>\n",
       "      <td>0</td>\n",
       "      <td>0</td>\n",
       "      <td>0</td>\n",
       "      <td>0</td>\n",
       "      <td>0</td>\n",
       "      <td>0</td>\n",
       "      <td>0</td>\n",
       "      <td>0</td>\n",
       "      <td>...</td>\n",
       "      <td>0</td>\n",
       "      <td>0</td>\n",
       "      <td>0</td>\n",
       "      <td>0</td>\n",
       "      <td>0</td>\n",
       "      <td>0</td>\n",
       "      <td>0</td>\n",
       "      <td>0</td>\n",
       "      <td>0</td>\n",
       "      <td>0</td>\n",
       "    </tr>\n",
       "    <tr>\n",
       "      <th>1</th>\n",
       "      <td>0</td>\n",
       "      <td>1</td>\n",
       "      <td>0</td>\n",
       "      <td>0</td>\n",
       "      <td>0</td>\n",
       "      <td>0</td>\n",
       "      <td>0</td>\n",
       "      <td>0</td>\n",
       "      <td>0</td>\n",
       "      <td>0</td>\n",
       "      <td>...</td>\n",
       "      <td>0</td>\n",
       "      <td>0</td>\n",
       "      <td>0</td>\n",
       "      <td>0</td>\n",
       "      <td>0</td>\n",
       "      <td>0</td>\n",
       "      <td>0</td>\n",
       "      <td>0</td>\n",
       "      <td>0</td>\n",
       "      <td>0</td>\n",
       "    </tr>\n",
       "    <tr>\n",
       "      <th>2</th>\n",
       "      <td>1</td>\n",
       "      <td>0</td>\n",
       "      <td>0</td>\n",
       "      <td>0</td>\n",
       "      <td>0</td>\n",
       "      <td>0</td>\n",
       "      <td>0</td>\n",
       "      <td>0</td>\n",
       "      <td>0</td>\n",
       "      <td>0</td>\n",
       "      <td>...</td>\n",
       "      <td>0</td>\n",
       "      <td>0</td>\n",
       "      <td>0</td>\n",
       "      <td>0</td>\n",
       "      <td>0</td>\n",
       "      <td>0</td>\n",
       "      <td>0</td>\n",
       "      <td>0</td>\n",
       "      <td>0</td>\n",
       "      <td>0</td>\n",
       "    </tr>\n",
       "    <tr>\n",
       "      <th>3</th>\n",
       "      <td>2</td>\n",
       "      <td>1</td>\n",
       "      <td>0</td>\n",
       "      <td>0</td>\n",
       "      <td>1</td>\n",
       "      <td>0</td>\n",
       "      <td>0</td>\n",
       "      <td>0</td>\n",
       "      <td>0</td>\n",
       "      <td>0</td>\n",
       "      <td>...</td>\n",
       "      <td>0</td>\n",
       "      <td>0</td>\n",
       "      <td>0</td>\n",
       "      <td>0</td>\n",
       "      <td>0</td>\n",
       "      <td>0</td>\n",
       "      <td>0</td>\n",
       "      <td>0</td>\n",
       "      <td>0</td>\n",
       "      <td>0</td>\n",
       "    </tr>\n",
       "    <tr>\n",
       "      <th>4</th>\n",
       "      <td>2</td>\n",
       "      <td>1</td>\n",
       "      <td>0</td>\n",
       "      <td>0</td>\n",
       "      <td>0</td>\n",
       "      <td>0</td>\n",
       "      <td>0</td>\n",
       "      <td>0</td>\n",
       "      <td>0</td>\n",
       "      <td>0</td>\n",
       "      <td>...</td>\n",
       "      <td>0</td>\n",
       "      <td>0</td>\n",
       "      <td>0</td>\n",
       "      <td>0</td>\n",
       "      <td>0</td>\n",
       "      <td>0</td>\n",
       "      <td>0</td>\n",
       "      <td>0</td>\n",
       "      <td>0</td>\n",
       "      <td>0</td>\n",
       "    </tr>\n",
       "  </tbody>\n",
       "</table>\n",
       "<p>5 rows × 761 columns</p>\n",
       "</div>"
      ],
      "text/plain": [
       "   patient age  patientsex_M  ethnicity_Andalusian  ethnicity_Asturian  \\\n",
       "0            2             0                     0                   0   \n",
       "1            0             1                     0                   0   \n",
       "2            1             0                     0                   0   \n",
       "3            2             1                     0                   0   \n",
       "4            2             1                     0                   0   \n",
       "\n",
       "   ethnicity_Central American  ethnicity_Cuban  ethnicity_Dominican  \\\n",
       "0                           0                0                    0   \n",
       "1                           0                0                    0   \n",
       "2                           0                0                    0   \n",
       "3                           1                0                    0   \n",
       "4                           0                0                    0   \n",
       "\n",
       "   ethnicity_Ecuadorian  ethnicity_Gallego  \\\n",
       "0                     0                  0   \n",
       "1                     0                  0   \n",
       "2                     0                  0   \n",
       "3                     0                  0   \n",
       "4                     0                  0   \n",
       "\n",
       "   ethnicity_Hispanic or Latino/Spanish           ...             \\\n",
       "0                                     0           ...              \n",
       "1                                     0           ...              \n",
       "2                                     0           ...              \n",
       "3                                     0           ...              \n",
       "4                                     0           ...              \n",
       "\n",
       "   patient city_WINLOCK  patient city_WINTER HARBOR  patient city_WOBURN  \\\n",
       "0                     0                           0                    0   \n",
       "1                     0                           0                    0   \n",
       "2                     0                           0                    0   \n",
       "3                     0                           0                    0   \n",
       "4                     0                           0                    0   \n",
       "\n",
       "   patient city_WOODSTOCK  patient city_WORCESTER  patient city_WORTHINGTON  \\\n",
       "0                       0                       0                         0   \n",
       "1                       0                       0                         0   \n",
       "2                       0                       0                         0   \n",
       "3                       0                       0                         0   \n",
       "4                       0                       0                         0   \n",
       "\n",
       "   patient city_WORTHINGTON SPRINGS  patient city_WRAY  patient city_YAKIMA  \\\n",
       "0                                 0                  0                    0   \n",
       "1                                 0                  0                    0   \n",
       "2                                 0                  0                    0   \n",
       "3                                 0                  0                    0   \n",
       "4                                 0                  0                    0   \n",
       "\n",
       "   patient city_YORK BEACH  \n",
       "0                        0  \n",
       "1                        0  \n",
       "2                        0  \n",
       "3                        0  \n",
       "4                        0  \n",
       "\n",
       "[5 rows x 761 columns]"
      ]
     },
     "execution_count": 9,
     "metadata": {},
     "output_type": "execute_result"
    }
   ],
   "source": [
    "df_cleaned.head()"
   ]
  },
  {
   "cell_type": "code",
   "execution_count": 10,
   "metadata": {},
   "outputs": [],
   "source": [
    "def make_Kmeans(arr, n):\n",
    "    ms = KMeans(n_clusters = n, n_jobs=-1, verbose=0)\n",
    "    ms.fit(arr)\n",
    "    labels = ms.labels_\n",
    "    cluster_centers = ms.cluster_centers_\n",
    "    \n",
    "    return labels, cluster_centers\n",
    "\n",
    "def plot_clusters(arr, labels, cluster_centers):\n",
    "    #Create Color Dictionary\n",
    "    colors = dict(mcolors.BASE_COLORS, **mcolors.CSS4_COLORS)\n",
    "    a = np.random.randint(40, len(colors), size = len(set(labels)))\n",
    "    label_colors = dict()\n",
    "    for index, color_num in enumerate(list(a)):\n",
    "        label_colors[index] = colors.keys()[color_num]\n",
    "    \n",
    "    # Make Plot\n",
    "    figure = plt.figure(figsize = (10, 10))\n",
    "    for i in labels:\n",
    "        plt.scatter(arr[:,0], arr[:,1], c = label_colors[i], alpha = 0.8)\n",
    "    plt.scatter(cluster_centers[:,0], cluster_centers[:,1], s = 100, c = 'r', marker='o')\n",
    "    plt.show()"
   ]
  },
  {
   "cell_type": "code",
   "execution_count": 11,
   "metadata": {},
   "outputs": [],
   "source": [
    "def make_MeanShift(arr):\n",
    "    bandwidth = estimate_bandwidth(arr, quantile=0.4)\n",
    "\n",
    "    ms = MeanShift(bandwidth = bandwidth, bin_seeding=True)\n",
    "    ms.fit(arr)\n",
    "    labels = ms.labels_\n",
    "    cluster_centers = ms.cluster_centers_\n",
    "\n",
    "    labels_unique = np.unique(labels)\n",
    "    n_clusters_ = len(labels_unique)\n",
    "\n",
    "    return labels, cluster_centers"
   ]
  },
  {
   "cell_type": "code",
   "execution_count": 12,
   "metadata": {},
   "outputs": [],
   "source": [
    "def add_labels(df, labels):\n",
    "    df['labels'] = labels"
   ]
  },
  {
   "cell_type": "code",
   "execution_count": 13,
   "metadata": {
    "collapsed": true
   },
   "outputs": [],
   "source": [
    "def make_dflist(df, labels):\n",
    "    df_list = []\n",
    "    for label in set(labels):\n",
    "        df_list.append(df[df['labels']==label])\n",
    "    return df_list"
   ]
  },
  {
   "cell_type": "code",
   "execution_count": 14,
   "metadata": {},
   "outputs": [
    {
     "name": "stdout",
     "output_type": "stream",
     "text": [
      "(1220, 7)\n",
      "(26, 7)\n",
      "(8, 7)\n",
      "(7, 7)\n",
      "(1, 7)\n"
     ]
    }
   ],
   "source": [
    "labels, clusters = make_MeanShift(X)\n",
    "add_labels(df2, labels)\n",
    "df_list = make_dflist(df2, labels)\n",
    "for data_frame in df_list:\n",
    "    print data_frame.shape"
   ]
  },
  {
   "cell_type": "code",
   "execution_count": 15,
   "metadata": {},
   "outputs": [],
   "source": [
    "df_cleaned['labels'] = labels"
   ]
  },
  {
   "cell_type": "code",
   "execution_count": 16,
   "metadata": {},
   "outputs": [
    {
     "name": "stdout",
     "output_type": "stream",
     "text": [
      "(397, 7)\n",
      "(20, 7)\n",
      "(165, 7)\n",
      "(680, 7)\n"
     ]
    }
   ],
   "source": [
    "labels, clusters = make_Kmeans(X, 4)\n",
    "add_labels(df2, labels)\n",
    "df_list = make_dflist(df2, labels)\n",
    "for data_frame in df_list:\n",
    "    print data_frame.shape"
   ]
  },
  {
   "cell_type": "code",
   "execution_count": 17,
   "metadata": {},
   "outputs": [],
   "source": [
    "new_df_list = []\n",
    "for dfs in df_list:\n",
    "    new_df_list.append(dfs['patientid'].values)"
   ]
  },
  {
   "cell_type": "code",
   "execution_count": 18,
   "metadata": {},
   "outputs": [],
   "source": [
    "index_list = ['patientid']\n",
    "index_list.extend(['d%s' %i for i in range(1, 21)])"
   ]
  },
  {
   "cell_type": "code",
   "execution_count": 19,
   "metadata": {},
   "outputs": [],
   "source": [
    "data_list = []\n",
    "for dfs in df_list:\n",
    "    data = np.random.choice([0, 1], size = (dfs.shape[0], len(index_list)-1), p = [0.90, 0.10])\n",
    "    data_list.append(data)"
   ]
  },
  {
   "cell_type": "code",
   "execution_count": 20,
   "metadata": {},
   "outputs": [
    {
     "name": "stdout",
     "output_type": "stream",
     "text": [
      "(397,) (397, 20)\n",
      "(20,) (20, 20)\n",
      "(165,) (165, 20)\n",
      "(680,) (680, 20)\n"
     ]
    }
   ],
   "source": [
    "for i in range(len(df_list)):\n",
    "    print new_df_list[i].shape, data_list[i].shape"
   ]
  },
  {
   "cell_type": "code",
   "execution_count": 21,
   "metadata": {},
   "outputs": [],
   "source": [
    "rec_dfs = []\n",
    "for df_num in range(len(df_list)):\n",
    "    df_1 = pd.DataFrame(new_df_list[df_num], columns = [index_list[0]], index = None)\n",
    "    df_2 = pd.DataFrame(data_list[df_num], columns = index_list[1::], index = None)\n",
    "    rec_dfs.append(pd.concat(objs = [df_1, df_2], axis = 1))\n",
    "    # TODO: Change NaN values"
   ]
  },
  {
   "cell_type": "code",
   "execution_count": 22,
   "metadata": {},
   "outputs": [],
   "source": [
    "def get_rec(df_):\n",
    "    df_s = pd.DataFrame.as_matrix(df_)\n",
    "    kf = KFold(n_splits=2, random_state=42, shuffle=True)\n",
    "    kf.split(X = df_s[1,:], y = df_s[0,:])\n",
    "    # We'll use the famous SVD algorithm.\n",
    "    algo = SVD()\n",
    "\n",
    "    # Evaluate performances of our algorithm on the dataset.\n",
    "    for train_index, test_index in kf.split(df_s):\n",
    "        perf = evaluate(algo, df_s[train_index], measures=['RMSE', 'MAE'])\n",
    "        return print_perf(perf)"
   ]
  },
  {
   "cell_type": "markdown",
   "metadata": {},
   "source": [
    "# bring up grouping race/ethnicity "
   ]
  },
  {
   "cell_type": "code",
   "execution_count": 38,
   "metadata": {},
   "outputs": [],
   "source": [
    "tsne = TSNE(n_components=3, random_state=42)\n",
    "tsne_vectors = tsne.fit_transform(df_cleaned.values)"
   ]
  },
  {
   "cell_type": "code",
   "execution_count": 39,
   "metadata": {},
   "outputs": [],
   "source": [
    "tsne_total = np.column_stack((tsne_vectors, labels))"
   ]
  },
  {
   "cell_type": "code",
   "execution_count": 40,
   "metadata": {},
   "outputs": [
    {
     "data": {
      "text/plain": [
       "(1262, 4)"
      ]
     },
     "execution_count": 40,
     "metadata": {},
     "output_type": "execute_result"
    }
   ],
   "source": [
    "tsne_total.shape"
   ]
  },
  {
   "cell_type": "code",
   "execution_count": 41,
   "metadata": {},
   "outputs": [],
   "source": [
    "tsne_df = pd.DataFrame(data = tsne_total, columns = ['D1', 'D2', 'D3', 'Group'])"
   ]
  },
  {
   "cell_type": "code",
   "execution_count": 42,
   "metadata": {},
   "outputs": [],
   "source": [
    "trace0 = go.Scatter3d(\n",
    "    x=tsne_df.query('Group == 0.0')['D1'],\n",
    "    y=tsne_df.query('Group == 0.0')['D2'],\n",
    "    z=tsne_df.query('Group == 0.0')['D3'],\n",
    "    name = 'Group 0',\n",
    "    mode='markers',\n",
    "    marker=dict(\n",
    "        size=12,\n",
    "        line=dict(\n",
    "            color='rgba(217, 217, 217, 0.14)',\n",
    "            width=0.5\n",
    "        ),\n",
    "        opacity=0.8\n",
    "    )\n",
    ")\n",
    "\n",
    "trace1 = go.Scatter3d(\n",
    "    x=tsne_df.query('Group == 1.0')['D1'],\n",
    "    y=tsne_df.query('Group == 1.0')['D2'],\n",
    "    z=tsne_df.query('Group == 1.0')['D3'],\n",
    "    name = 'Group 1',\n",
    "    mode='markers',\n",
    "    marker=dict(\n",
    "        size=12,\n",
    "        line=dict(\n",
    "            color='rgba(217, 217, 217, 0.14)',\n",
    "            width=0.5\n",
    "        ),\n",
    "        opacity=0.8\n",
    "    )\n",
    ")\n",
    "\n",
    "trace2 = go.Scatter3d(\n",
    "    x=tsne_df.query('Group == 2.0')['D1'],\n",
    "    y=tsne_df.query('Group == 2.0')['D2'],\n",
    "    z=tsne_df.query('Group == 2.0')['D3'],\n",
    "    name = 'Group 2',\n",
    "    mode='markers',\n",
    "    marker=dict(\n",
    "        size=12,\n",
    "        line=dict(\n",
    "            color='rgba(217, 217, 217, 0.14)',\n",
    "            width=0.5\n",
    "        ),\n",
    "        opacity=0.8\n",
    "    )\n",
    ")\n",
    "\n",
    "trace3 = go.Scatter3d(\n",
    "    x=tsne_df.query('Group == 3.0')['D1'],\n",
    "    y=tsne_df.query('Group == 3.0')['D2'],\n",
    "    z=tsne_df.query('Group == 3.0')['D3'],\n",
    "    name = 'Group 3',\n",
    "    mode='markers',\n",
    "    marker=dict(\n",
    "        size=12,\n",
    "        line=dict(\n",
    "            color='rgba(217, 217, 217, 0.14)',\n",
    "            width=0.5\n",
    "        ),\n",
    "        opacity=0.8\n",
    "    )\n",
    ")\n",
    "\n",
    "trace4 = go.Scatter3d(\n",
    "    x=tsne_df.query('Group == 4.0')['D1'],\n",
    "    y=tsne_df.query('Group == 4.0')['D2'],\n",
    "    z=tsne_df.query('Group == 4.0')['D3'],\n",
    "    name = 'Group 3',\n",
    "    mode='markers',\n",
    "    marker=dict(\n",
    "        size=12,\n",
    "        line=dict(\n",
    "            color='rgba(217, 217, 217, 0.14)',\n",
    "            width=0.5\n",
    "        ),\n",
    "        opacity=0.8\n",
    "    )\n",
    ")"
   ]
  },
  {
   "cell_type": "code",
   "execution_count": 43,
   "metadata": {
    "collapsed": true
   },
   "outputs": [],
   "source": [
    "data = [trace0, trace1, trace2, trace3, trace4]\n",
    "layout = go.Layout(\n",
    "    title='Cluster Analysis of Patients by Demographics and Injury',\n",
    "    font=dict(size=16, color='#7f7f7f '),\n",
    "    height = 800,\n",
    "    width = 900,\n",
    "    legend=dict(\n",
    "        x=0,\n",
    "        y=0.90,\n",
    "        bgcolor='rgba(255, 255, 255, 0)',\n",
    "        bordercolor='rgba(255, 255, 255, 0)',\n",
    "        font=dict(\n",
    "            size=14,\n",
    "            color='#000'\n",
    "            ),\n",
    "        ),\n",
    "    )"
   ]
  },
  {
   "cell_type": "code",
   "execution_count": 44,
   "metadata": {},
   "outputs": [
    {
     "name": "stdout",
     "output_type": "stream",
     "text": [
      "High five! You successfuly sent some data to your account on plotly. View your plot in your browser at https://plot.ly/~erdos2n/0 or inside your plot.ly account where it is named 'Hackathon-ClusterAnalysis'\n"
     ]
    },
    {
     "data": {
      "text/html": [
       "<iframe id=\"igraph\" scrolling=\"no\" style=\"border:none;\" seamless=\"seamless\" src=\"https://plot.ly/~erdos2n/0.embed\" height=\"800px\" width=\"900px\"></iframe>"
      ],
      "text/plain": [
       "<plotly.tools.PlotlyDisplay object>"
      ]
     },
     "execution_count": 44,
     "metadata": {},
     "output_type": "execute_result"
    }
   ],
   "source": [
    "fig = go.Figure(data=data, layout=layout)\n",
    "py.iplot(fig, filename='Hackathon-ClusterAnalysis')"
   ]
  },
  {
   "cell_type": "code",
   "execution_count": null,
   "metadata": {},
   "outputs": [],
   "source": [
    "evaluate?"
   ]
  },
  {
   "cell_type": "code",
   "execution_count": null,
   "metadata": {
    "collapsed": true
   },
   "outputs": [],
   "source": []
  }
 ],
 "metadata": {
  "kernelspec": {
   "display_name": "Python 2",
   "language": "python",
   "name": "python2"
  },
  "language_info": {
   "codemirror_mode": {
    "name": "ipython",
    "version": 2
   },
   "file_extension": ".py",
   "mimetype": "text/x-python",
   "name": "python",
   "nbconvert_exporter": "python",
   "pygments_lexer": "ipython2",
   "version": "2.7.13"
  }
 },
 "nbformat": 4,
 "nbformat_minor": 2
}
